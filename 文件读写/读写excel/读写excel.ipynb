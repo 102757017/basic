{
 "cells": [
  {
   "cell_type": "code",
   "execution_count": 1,
   "metadata": {
    "collapsed": true
   },
   "outputs": [],
   "source": [
    "#!/usr/bin/python\n",
    "# -*- coding: UTF-8 -*-\n",
    "import xlwings as xls"
   ]
  },
  {
   "cell_type": "markdown",
   "metadata": {},
   "source": [
    "# 打开Excel程序，默认设置：程序可见，并新建一个工作簿"
   ]
  },
  {
   "cell_type": "code",
   "execution_count": 2,
   "metadata": {
    "collapsed": true
   },
   "outputs": [],
   "source": [
    "app = xls.App(visible=True,add_book=True)"
   ]
  },
  {
   "cell_type": "markdown",
   "metadata": {},
   "source": [
    "# 再新建一个工作簿"
   ]
  },
  {
   "cell_type": "code",
   "execution_count": 3,
   "metadata": {
    "collapsed": true
   },
   "outputs": [],
   "source": [
    "wb = app.books.add()"
   ]
  },
  {
   "cell_type": "markdown",
   "metadata": {},
   "source": [
    "# app.books是可迭代对象，显示目前所有的工作簿"
   ]
  },
  {
   "cell_type": "code",
   "execution_count": 4,
   "metadata": {},
   "outputs": [
    {
     "name": "stdout",
     "output_type": "stream",
     "text": [
      "Books([<Book [工作簿1]>, <Book [工作簿2]>])\n"
     ]
    }
   ],
   "source": [
    "print(app.books)"
   ]
  },
  {
   "cell_type": "code",
   "execution_count": 5,
   "metadata": {},
   "outputs": [
    {
     "data": {
      "text/plain": [
       "<Book [工作簿1]>"
      ]
     },
     "execution_count": 5,
     "metadata": {},
     "output_type": "execute_result"
    }
   ],
   "source": [
    "app.books[0]"
   ]
  },
  {
   "cell_type": "code",
   "execution_count": 6,
   "metadata": {},
   "outputs": [
    {
     "data": {
      "text/plain": [
       "<Book [工作簿1]>"
      ]
     },
     "execution_count": 6,
     "metadata": {},
     "output_type": "execute_result"
    }
   ],
   "source": [
    "app.books[\"工作簿1\"]"
   ]
  },
  {
   "cell_type": "markdown",
   "metadata": {},
   "source": [
    "# 关闭工作薄"
   ]
  },
  {
   "cell_type": "code",
   "execution_count": 7,
   "metadata": {},
   "outputs": [],
   "source": [
    "app.books[\"工作簿2\"].close()"
   ]
  },
  {
   "cell_type": "markdown",
   "metadata": {},
   "source": [
    "# 打开一个现存的工作薄"
   ]
  },
  {
   "cell_type": "code",
   "execution_count": 8,
   "metadata": {
    "collapsed": true
   },
   "outputs": [],
   "source": [
    "wb=app.books.open('test.xlsx')"
   ]
  },
  {
   "cell_type": "markdown",
   "metadata": {},
   "source": [
    "# 显示工作薄内所有sheet"
   ]
  },
  {
   "cell_type": "code",
   "execution_count": 9,
   "metadata": {},
   "outputs": [
    {
     "data": {
      "text/plain": [
       "Sheets([<Sheet [test.xlsx]QA>])"
      ]
     },
     "execution_count": 9,
     "metadata": {},
     "output_type": "execute_result"
    }
   ],
   "source": [
    "wb.sheets"
   ]
  },
  {
   "cell_type": "markdown",
   "metadata": {},
   "source": [
    "# 获取单元格内文本"
   ]
  },
  {
   "cell_type": "code",
   "execution_count": 10,
   "metadata": {},
   "outputs": [
    {
     "name": "stdout",
     "output_type": "stream",
     "text": [
      "文本内容： 单元格5内的文本\n",
      "背景颜色： None\n",
      "行高： 14.25\n",
      "列宽： 4.25\n",
      "字体: 等线\n",
      "字体大小: 11.0\n",
      "字体颜色： 0.0\n"
     ]
    }
   ],
   "source": [
    "print(\"文本内容：\",wb.sheets[\"QA\"]['A2'].value)\n",
    "#背景色\n",
    "print(\"背景颜色：\",wb.sheets[\"QA\"]['A2'].color)\n",
    "print(\"行高：\",wb.sheets[\"QA\"]['A2'].row_height)\n",
    "print(\"列宽：\",wb.sheets[\"QA\"]['A2'].column_width)\n",
    "print(\"字体:\",wb.sheets[\"QA\"]['A2'].api.Font.Name)\n",
    "\n",
    "\n",
    "\n",
    "print(\"字体大小:\",wb.sheets[\"QA\"]['A2'].api.Font.size)\n",
    "print(\"字体颜色：\",wb.sheets[\"QA\"]['A2'].api.Font.Color)\n",
    "#设置颜色为(255,0,0)\n",
    "wb.sheets[\"QA\"]['A2'].api.Font.Color=0x0000ff\n",
    "# -4108 水平居中。 -4131 靠左，-4152 靠右。\n",
    "wb.sheets[\"QA\"]['A2'].api.HorizontalAlignment = -4108\n",
    "# -4108 垂直居中（默认）。 -4160 靠上，-4107 靠下， -4130 自动换行对齐。\n",
    "wb.sheets[\"QA\"]['A2'].api.VerticalAlignment = -4130"
   ]
  },
  {
   "cell_type": "code",
   "execution_count": 11,
   "metadata": {},
   "outputs": [
    {
     "data": {
      "text/plain": [
       "['单元格1内的文本', '单元格2内的文本', '单元格3内的文本']"
      ]
     },
     "execution_count": 11,
     "metadata": {},
     "output_type": "execute_result"
    }
   ],
   "source": [
    "wb.sheets[\"QA\"]['F17:H17'].value"
   ]
  },
  {
   "cell_type": "code",
   "execution_count": 12,
   "metadata": {},
   "outputs": [
    {
     "data": {
      "text/plain": [
       "[['单元格1内的文本', '单元格2内的文本', '单元格3内的文本'], ['单元格4内的文本', None, None]]"
      ]
     },
     "execution_count": 12,
     "metadata": {},
     "output_type": "execute_result"
    }
   ],
   "source": [
    "wb.sheets[\"QA\"]['F17:H18'].value"
   ]
  },
  {
   "cell_type": "markdown",
   "metadata": {},
   "source": [
    "# 获取表格中的形状"
   ]
  },
  {
   "cell_type": "code",
   "execution_count": 13,
   "metadata": {},
   "outputs": [
    {
     "data": {
      "text/plain": [
       "Shapes([<Shape 'TextBox 1' in <Sheet [test.xlsx]QA>>, <Shape 'Picture 2' in <Sheet [test.xlsx]QA>>])"
      ]
     },
     "execution_count": 13,
     "metadata": {},
     "output_type": "execute_result"
    }
   ],
   "source": [
    "wb.sheets[\"QA\"].shapes"
   ]
  },
  {
   "cell_type": "markdown",
   "metadata": {},
   "source": [
    "# 文本框"
   ]
  },
  {
   "cell_type": "code",
   "execution_count": 14,
   "metadata": {},
   "outputs": [
    {
     "name": "stdout",
     "output_type": "stream",
     "text": [
      "name: TextBox 1\n",
      "type: text_box\n",
      "heigh: 22.315826416015625\n",
      "width: 42.38496017456055\n"
     ]
    }
   ],
   "source": [
    "shape0=wb.sheets[\"QA\"].shapes[0]\n",
    "print(\"name:\",shape0.name)\n",
    "print(\"type:\",shape0.type)\n",
    "print(\"heigh:\",shape0.height)\n",
    "print(\"width:\",shape0.width)\n",
    "#print(\"允许文本溢出形状:\",shape0.TextFrame.VerticalOverflow)"
   ]
  },
  {
   "cell_type": "markdown",
   "metadata": {},
   "source": [
    "# 复制一个sheet（此处用到了vba的函数，api后面可以使用任意vba函数）"
   ]
  },
  {
   "cell_type": "code",
   "execution_count": 15,
   "metadata": {
    "collapsed": true
   },
   "outputs": [],
   "source": [
    "wb.sheets[\"QA\"].api.Copy()"
   ]
  },
  {
   "cell_type": "markdown",
   "metadata": {
    "collapsed": true
   },
   "source": [
    "# 更改sheet的名称（此处用到了vba的函数，api后面可以使用任意vba函数）"
   ]
  },
  {
   "cell_type": "code",
   "execution_count": 16,
   "metadata": {
    "collapsed": true
   },
   "outputs": [],
   "source": [
    "app.books[2].sheets[0].api.Name=\"QA2\""
   ]
  },
  {
   "cell_type": "markdown",
   "metadata": {},
   "source": [
    "# 图片"
   ]
  },
  {
   "cell_type": "code",
   "execution_count": 17,
   "metadata": {},
   "outputs": [
    {
     "name": "stdout",
     "output_type": "stream",
     "text": [
      "name: Picture 2\n",
      "type: picture\n",
      "heigh: 97.48779296875\n",
      "width: 92.98834991455078\n",
      "距离左边的距离: 255.0\n",
      "距离顶端的距离: 255.0\n"
     ]
    },
    {
     "ename": "AttributeError",
     "evalue": "'Shape' object has no attribute 'update'",
     "output_type": "error",
     "traceback": [
      "\u001b[1;31m---------------------------------------------------------------------------\u001b[0m",
      "\u001b[1;31mAttributeError\u001b[0m                            Traceback (most recent call last)",
      "\u001b[1;32m<ipython-input-17-7bb9eb41844c>\u001b[0m in \u001b[0;36m<module>\u001b[1;34m()\u001b[0m\n\u001b[0;32m      8\u001b[0m \u001b[1;33m\u001b[0m\u001b[0m\n\u001b[0;32m      9\u001b[0m \u001b[1;31m#替换图片\u001b[0m\u001b[1;33m\u001b[0m\u001b[1;33m\u001b[0m\u001b[0m\n\u001b[1;32m---> 10\u001b[1;33m \u001b[0mshape1\u001b[0m\u001b[1;33m.\u001b[0m\u001b[0mupdate\u001b[0m\u001b[1;33m(\u001b[0m\u001b[1;34mr'C:\\path\\to\\file.jpg'\u001b[0m\u001b[1;33m)\u001b[0m\u001b[1;33m\u001b[0m\u001b[0m\n\u001b[0m\u001b[0;32m     11\u001b[0m \u001b[1;33m\u001b[0m\u001b[0m\n\u001b[0;32m     12\u001b[0m \u001b[1;31m#添加图片\u001b[0m\u001b[1;33m\u001b[0m\u001b[1;33m\u001b[0m\u001b[0m\n",
      "\u001b[1;31mAttributeError\u001b[0m: 'Shape' object has no attribute 'update'"
     ]
    }
   ],
   "source": [
    "shape1=app.books[2].sheets[\"QA2\"].shapes[1]\n",
    "print(\"name:\",shape1.name)\n",
    "print(\"type:\",shape1.type)\n",
    "print(\"heigh:\",shape1.height)\n",
    "print(\"width:\",shape1.width)\n",
    "print(\"距离左边的距离:\",shape1.left)\n",
    "print(\"距离顶端的距离:\",shape1.left)\n",
    "\n",
    "#替换图片\n",
    "shape1.update(r'C:\\path\\to\\file.jpg')\n",
    "\n",
    "#添加图片\n",
    "app.books[2].sheets[\"QA2\"].pictures.add(r'C:\\path\\to\\file.jpg')"
   ]
  },
  {
   "cell_type": "markdown",
   "metadata": {},
   "source": [
    "# 修改单元格内文本"
   ]
  },
  {
   "cell_type": "code",
   "execution_count": 18,
   "metadata": {
    "collapsed": true
   },
   "outputs": [],
   "source": [
    "app.books[2].sheets[\"QA2\"]['T19'].value=\"否\""
   ]
  },
  {
   "cell_type": "markdown",
   "metadata": {},
   "source": [
    "# 进行一组数据的赋值时默认是按行进行赋值"
   ]
  },
  {
   "cell_type": "code",
   "execution_count": 19,
   "metadata": {
    "collapsed": true
   },
   "outputs": [],
   "source": [
    "app.books[2].sheets[\"QA2\"]['A24'].value=[1, 2, 3,4]"
   ]
  },
  {
   "cell_type": "markdown",
   "metadata": {
    "collapsed": true
   },
   "source": [
    "# 按列进行赋值需要添加transpose参数"
   ]
  },
  {
   "cell_type": "code",
   "execution_count": 20,
   "metadata": {
    "collapsed": true
   },
   "outputs": [],
   "source": [
    "app.books[2].sheets[\"QA2\"]['A25'].options(transpose=True).value=[1, 2, 3,4]"
   ]
  },
  {
   "cell_type": "markdown",
   "metadata": {},
   "source": [
    "# 保存工作簿"
   ]
  },
  {
   "cell_type": "code",
   "execution_count": 21,
   "metadata": {},
   "outputs": [],
   "source": [
    "app.books[2].save(\"复制的工作表.xlsx\")"
   ]
  },
  {
   "cell_type": "markdown",
   "metadata": {},
   "source": [
    "# 转换文件格式\n",
    "| 名称                              | 值   | 说明                   | 扩展名 |\n",
    "| :-------------------------------- | :--- | :--------------------- | :----- |\n",
    "| **xlCSV**                         | 6    | CSV                    | *.csv  |\n",
    "| **xlExcel8**                      | 56   | Excel 97-2003 工作簿   | *.xls  |\n",
    "| **xlOpenXMLWorkbook**             | 51   | Open XML 工作簿        | *.xlsx |\n",
    "| **xlOpenXMLWorkbookMacroEnabled** | 52   | 启用 Open XML 工作簿宏 | *.xlsm |\n",
    "| **xlTextMac**                     | 19   | Macintosh 文本         | *.txt  |\n",
    "| **xlTextMSDOS**                   | 21   | MSDOS 文本             | *.txt  |\n",
    "| **xlTextWindows**                 | 20   | Windows 文本           | *.txt  |\n",
    "| **xlXMLSpreadsheet**              | 46   | XML 电子表格           | *.xml  |"
   ]
  },
  {
   "cell_type": "code",
   "execution_count": 23,
   "metadata": {},
   "outputs": [],
   "source": [
    "import os\n",
    "import sys\n",
    "os.chdir(sys.path[0])\n",
    "app.books[2].api.SaveAs( \"复制的工作表\",46)"
   ]
  },
  {
   "cell_type": "markdown",
   "metadata": {},
   "source": [
    "# 关闭excel"
   ]
  },
  {
   "cell_type": "code",
   "execution_count": 24,
   "metadata": {
    "collapsed": true
   },
   "outputs": [],
   "source": [
    "app.quit()\n",
    "app.kill()"
   ]
  }
 ],
 "metadata": {
  "kernelspec": {
   "display_name": "Python 3",
   "language": "python",
   "name": "python3"
  },
  "language_info": {
   "codemirror_mode": {
    "name": "ipython",
    "version": 3
   },
   "file_extension": ".py",
   "mimetype": "text/x-python",
   "name": "python",
   "nbconvert_exporter": "python",
   "pygments_lexer": "ipython3",
   "version": "3.6.1"
  }
 },
 "nbformat": 4,
 "nbformat_minor": 2
}
